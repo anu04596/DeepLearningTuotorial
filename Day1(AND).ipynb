{
  "nbformat": 4,
  "nbformat_minor": 0,
  "metadata": {
    "colab": {
      "provenance": [],
      "authorship_tag": "ABX9TyNi8Abawpghc/OrXr88YeEA",
      "include_colab_link": true
    },
    "kernelspec": {
      "name": "python3",
      "display_name": "Python 3"
    },
    "language_info": {
      "name": "python"
    }
  },
  "cells": [
    {
      "cell_type": "markdown",
      "metadata": {
        "id": "view-in-github",
        "colab_type": "text"
      },
      "source": [
        "<a href=\"https://colab.research.google.com/github/anu04596/DeepLearningTuotorial/blob/main/Day1(AND).ipynb\" target=\"_parent\"><img src=\"https://colab.research.google.com/assets/colab-badge.svg\" alt=\"Open In Colab\"/></a>"
      ]
    },
    {
      "cell_type": "markdown",
      "source": [
        "Imported Library"
      ],
      "metadata": {
        "id": "05GkZR2NQYSw"
      }
    },
    {
      "cell_type": "code",
      "execution_count": 1,
      "metadata": {
        "id": "yq4XxsSdP-bi"
      },
      "outputs": [],
      "source": [
        "import numpy as np"
      ]
    },
    {
      "cell_type": "markdown",
      "source": [
        "Step Activation Function"
      ],
      "metadata": {
        "id": "cSYhipqMQbnj"
      }
    },
    {
      "cell_type": "code",
      "source": [
        "def step(x):\n",
        "  return 1 if x>0 else 0"
      ],
      "metadata": {
        "id": "ZogiNR0IQVUO"
      },
      "execution_count": 2,
      "outputs": []
    },
    {
      "cell_type": "markdown",
      "source": [
        "Perceptron Model"
      ],
      "metadata": {
        "id": "aTjGWpi_QkG5"
      }
    },
    {
      "cell_type": "code",
      "source": [
        "class Perceptron:\n",
        "  def __init__(self, input_size):\n",
        "    self.weights = np.zeros(input_size)\n",
        "    self.bias = 0\n",
        "    self.lr = 0.01\n",
        "\n",
        "  def predict(self, x):\n",
        "    z = np.dot(self.weights, x) + self.bias\n",
        "    return step(z)\n",
        "\n",
        "  def train(self, X, y, epochs):\n",
        "    for epoch in range(epochs):\n",
        "      for i in range(len(X)):\n",
        "        y_pred = self.predict(X[i])\n",
        "        error = y[i] - y_pred\n",
        "        self.weights += self.lr * error * X[i]\n",
        "        self.bias += self.lr * error"
      ],
      "metadata": {
        "id": "cOYJXlKGQjEB"
      },
      "execution_count": 3,
      "outputs": []
    },
    {
      "cell_type": "markdown",
      "source": [
        "Input (AND Gates)"
      ],
      "metadata": {
        "id": "yVeWbfXKROOV"
      }
    },
    {
      "cell_type": "code",
      "source": [
        "X=np.array([[0,0],[0,1],[1,0],[1,1]])\n",
        "y=np.array([0,0,0,1])"
      ],
      "metadata": {
        "id": "0Dp1l8QyRCbU"
      },
      "execution_count": 4,
      "outputs": []
    },
    {
      "cell_type": "markdown",
      "source": [
        "Training"
      ],
      "metadata": {
        "id": "WiTpTfwSRSgC"
      }
    },
    {
      "cell_type": "code",
      "source": [
        "p=Perceptron(input_size=2)\n",
        "p.train(X,y,epochs=10)"
      ],
      "metadata": {
        "id": "6Ca_rLVCRNQL"
      },
      "execution_count": 5,
      "outputs": []
    },
    {
      "cell_type": "markdown",
      "source": [
        "Testing Model"
      ],
      "metadata": {
        "id": "l_0zDH9ERdHX"
      }
    },
    {
      "cell_type": "code",
      "source": [
        "for x in X:\n",
        "  print(p.predict(x))"
      ],
      "metadata": {
        "colab": {
          "base_uri": "https://localhost:8080/"
        },
        "id": "h6CR4teoRcD-",
        "outputId": "698b7ca5-cf56-4527-869b-c504cb317cdf"
      },
      "execution_count": 6,
      "outputs": [
        {
          "output_type": "stream",
          "name": "stdout",
          "text": [
            "0\n",
            "0\n",
            "0\n",
            "1\n"
          ]
        }
      ]
    },
    {
      "cell_type": "code",
      "source": [],
      "metadata": {
        "id": "_XRXDsOVRhLL"
      },
      "execution_count": null,
      "outputs": []
    }
  ]
}