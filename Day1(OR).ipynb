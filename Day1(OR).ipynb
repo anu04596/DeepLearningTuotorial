{
  "nbformat": 4,
  "nbformat_minor": 0,
  "metadata": {
    "colab": {
      "provenance": [],
      "authorship_tag": "ABX9TyPRXpaN7uXB7T8R7yw7cao5",
      "include_colab_link": true
    },
    "kernelspec": {
      "name": "python3",
      "display_name": "Python 3"
    },
    "language_info": {
      "name": "python"
    }
  },
  "cells": [
    {
      "cell_type": "markdown",
      "metadata": {
        "id": "view-in-github",
        "colab_type": "text"
      },
      "source": [
        "<a href=\"https://colab.research.google.com/github/anu04596/DeepLearningTuotorial/blob/main/Day1(OR).ipynb\" target=\"_parent\"><img src=\"https://colab.research.google.com/assets/colab-badge.svg\" alt=\"Open In Colab\"/></a>"
      ]
    },
    {
      "cell_type": "markdown",
      "source": [
        "Importing Library"
      ],
      "metadata": {
        "id": "Vph6D161Rzt-"
      }
    },
    {
      "cell_type": "code",
      "execution_count": 1,
      "metadata": {
        "id": "faFrvWkdRs5p"
      },
      "outputs": [],
      "source": [
        "import numpy as np"
      ]
    },
    {
      "cell_type": "markdown",
      "source": [
        "Step Activation Function"
      ],
      "metadata": {
        "id": "NtjRSozwR4t4"
      }
    },
    {
      "cell_type": "code",
      "source": [
        "def step(x):\n",
        "  return 1 if x>0 else 0"
      ],
      "metadata": {
        "id": "lMfo3FwLR3OG"
      },
      "execution_count": 2,
      "outputs": []
    },
    {
      "cell_type": "markdown",
      "source": [
        "Perceptron"
      ],
      "metadata": {
        "id": "CCBh2FdISCnL"
      }
    },
    {
      "cell_type": "code",
      "source": [
        "class Perceptron:\n",
        "  def __init__(self, input_size):\n",
        "    self.weights=np.zeros(input_size)\n",
        "    self.bias=0\n",
        "    self.learning_rate=0.1\n",
        "\n",
        "  def predict(self, x):\n",
        "    linear_output=np.dot(x, self.weights) + self.bias\n",
        "    return step(linear_output)\n",
        "\n",
        "  def train(self, X, y, epochs):\n",
        "    for epoch in range(epochs):\n",
        "      for i in range(len(X)):\n",
        "        y_pred=self.predict(X[i])\n",
        "        error=y[i]-y_pred\n",
        "        self.weights+=self.learning_rate*error*X[i]\n",
        "        self.bias+=self.learning_rate*error"
      ],
      "metadata": {
        "id": "1zDpPf9uSB5n"
      },
      "execution_count": 3,
      "outputs": []
    },
    {
      "cell_type": "markdown",
      "source": [
        "Input (OR Gates)"
      ],
      "metadata": {
        "id": "cD1vHNMpTc8v"
      }
    },
    {
      "cell_type": "code",
      "source": [
        "X=np.array([[0,0],[1,0],[0,1],[1,1]])\n",
        "y=np.array([0,1,1,1])"
      ],
      "metadata": {
        "id": "xIAWWvxyTbza"
      },
      "execution_count": 4,
      "outputs": []
    },
    {
      "cell_type": "markdown",
      "source": [
        "Training"
      ],
      "metadata": {
        "id": "3uakBZA_To9_"
      }
    },
    {
      "cell_type": "code",
      "source": [
        "p=Perceptron(2)\n",
        "p.train(X,y,10)"
      ],
      "metadata": {
        "id": "aT2thFqRToLF"
      },
      "execution_count": 5,
      "outputs": []
    },
    {
      "cell_type": "markdown",
      "source": [
        "Testing"
      ],
      "metadata": {
        "id": "POQryjbcTsyt"
      }
    },
    {
      "cell_type": "code",
      "source": [
        "for x in X:\n",
        "  print(p.predict(x))"
      ],
      "metadata": {
        "colab": {
          "base_uri": "https://localhost:8080/"
        },
        "id": "xPG8jyB_TsLC",
        "outputId": "63dc2136-b9c1-4b8f-e809-4526da30674b"
      },
      "execution_count": 6,
      "outputs": [
        {
          "output_type": "stream",
          "name": "stdout",
          "text": [
            "0\n",
            "1\n",
            "1\n",
            "1\n"
          ]
        }
      ]
    },
    {
      "cell_type": "markdown",
      "source": [
        "Sigmoid Function"
      ],
      "metadata": {
        "id": "j3G-s2LGT9iD"
      }
    },
    {
      "cell_type": "code",
      "source": [
        "def sigmoid(x):\n",
        "  return 1/(1+ np.exp(-x))"
      ],
      "metadata": {
        "id": "-hJALjXDTws2"
      },
      "execution_count": 7,
      "outputs": []
    },
    {
      "cell_type": "markdown",
      "source": [
        "New Perceptron model"
      ],
      "metadata": {
        "id": "42LP7o2EUKoN"
      }
    },
    {
      "cell_type": "code",
      "source": [
        "class Perceptron1:\n",
        "  def __init__(self, input_size):\n",
        "    self.weights=np.zeros(input_size)\n",
        "    self.bias=0\n",
        "    self.learning_rate=0.1\n",
        "\n",
        "  def predict(self, x):\n",
        "    linear_output=np.dot(x, self.weights) + self.bias\n",
        "    return sigmoid(linear_output)\n",
        "\n",
        "  def train(self, X, y, epochs):\n",
        "    for epoch in range(epochs):\n",
        "      for i in range(len(X)):\n",
        "        y_pred=self.predict(X[i])\n",
        "        error=y[i]-y_pred\n",
        "        self.weights+=self.learning_rate*error*X[i]\n",
        "        self.bias+=self.learning_rate*error"
      ],
      "metadata": {
        "id": "_HEX3DtaUJk6"
      },
      "execution_count": 8,
      "outputs": []
    },
    {
      "cell_type": "markdown",
      "source": [
        "Training"
      ],
      "metadata": {
        "id": "R_I0M4Y9UXIW"
      }
    },
    {
      "cell_type": "code",
      "source": [
        "p1=Perceptron1(2)\n",
        "p1.train(X,y,10)"
      ],
      "metadata": {
        "id": "lE13hxL3USeW"
      },
      "execution_count": 9,
      "outputs": []
    },
    {
      "cell_type": "markdown",
      "source": [
        "Testing"
      ],
      "metadata": {
        "id": "b9jr2vrJUeIl"
      }
    },
    {
      "cell_type": "code",
      "source": [
        "for x in X:\n",
        "    output = p.predict(x)\n",
        "    print(f\"Input: {x} → Output (prob): {output:.3f} → Class: {int(output > 0.5)}\")"
      ],
      "metadata": {
        "colab": {
          "base_uri": "https://localhost:8080/"
        },
        "id": "NUQXWnRSUc2J",
        "outputId": "46cc5d92-d945-492b-cba6-5f1ab122676c"
      },
      "execution_count": 10,
      "outputs": [
        {
          "output_type": "stream",
          "name": "stdout",
          "text": [
            "Input: [0 0] → Output (prob): 0.000 → Class: 0\n",
            "Input: [1 0] → Output (prob): 1.000 → Class: 1\n",
            "Input: [0 1] → Output (prob): 1.000 → Class: 1\n",
            "Input: [1 1] → Output (prob): 1.000 → Class: 1\n"
          ]
        }
      ]
    }
  ]
}