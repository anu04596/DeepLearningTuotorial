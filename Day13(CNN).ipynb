{
  "nbformat": 4,
  "nbformat_minor": 0,
  "metadata": {
    "colab": {
      "provenance": [],
      "gpuType": "T4",
      "authorship_tag": "ABX9TyNoQcJ5/M0HH2l/iV7iIuhI",
      "include_colab_link": true
    },
    "kernelspec": {
      "name": "python3",
      "display_name": "Python 3"
    },
    "language_info": {
      "name": "python"
    },
    "accelerator": "GPU"
  },
  "cells": [
    {
      "cell_type": "markdown",
      "metadata": {
        "id": "view-in-github",
        "colab_type": "text"
      },
      "source": [
        "<a href=\"https://colab.research.google.com/github/anu04596/DeepLearningTuotorial/blob/main/Day13(CNN).ipynb\" target=\"_parent\"><img src=\"https://colab.research.google.com/assets/colab-badge.svg\" alt=\"Open In Colab\"/></a>"
      ]
    },
    {
      "cell_type": "markdown",
      "source": [
        "Learning How CNN Model Works"
      ],
      "metadata": {
        "id": "tMZYcvBBPQV1"
      }
    },
    {
      "cell_type": "markdown",
      "source": [
        "Import Libraries"
      ],
      "metadata": {
        "id": "xtwukgOkMYRJ"
      }
    },
    {
      "cell_type": "code",
      "execution_count": 8,
      "metadata": {
        "id": "AFMDEWFOMQIx"
      },
      "outputs": [],
      "source": [
        "import torch\n",
        "import torchvision\n",
        "import torch.nn.functional as F\n",
        "import torch.nn as nn\n",
        "import torchvision.transforms as transforms\n",
        "from torch.utils.data import DataLoader\n",
        "from torch.utils.data import Subset\n",
        "import random\n",
        "import numpy as np"
      ]
    },
    {
      "cell_type": "markdown",
      "source": [
        "Load Dataset"
      ],
      "metadata": {
        "id": "aOfkA5wcM3Q-"
      }
    },
    {
      "cell_type": "code",
      "source": [
        "device = torch.device('cuda' if torch.cuda.is_available() else 'cpu')\n",
        "print(\"Using\", device)"
      ],
      "metadata": {
        "colab": {
          "base_uri": "https://localhost:8080/"
        },
        "id": "ZMO2zEvCMuMO",
        "outputId": "ffa2001a-9e76-4981-8d82-7bef22b29c13"
      },
      "execution_count": 2,
      "outputs": [
        {
          "output_type": "stream",
          "name": "stdout",
          "text": [
            "Using cuda\n"
          ]
        }
      ]
    },
    {
      "cell_type": "code",
      "source": [
        "tranform=transforms.ToTensor()\n",
        "train_dataset=torchvision.datasets.FashionMNIST(root='./data',train=True,transform=tranform,download=True)\n",
        "test_dataset=torchvision.datasets.FashionMNIST(root='./data',train=False,transform=tranform,download=True)"
      ],
      "metadata": {
        "colab": {
          "base_uri": "https://localhost:8080/"
        },
        "id": "s0ngZ7RVM7mv",
        "outputId": "7b01fae3-e691-4297-bf68-4d56ece31dc9"
      },
      "execution_count": 3,
      "outputs": [
        {
          "output_type": "stream",
          "name": "stderr",
          "text": [
            "100%|██████████| 26.4M/26.4M [00:02<00:00, 11.3MB/s]\n",
            "100%|██████████| 29.5k/29.5k [00:00<00:00, 203kB/s]\n",
            "100%|██████████| 4.42M/4.42M [00:01<00:00, 3.78MB/s]\n",
            "100%|██████████| 5.15k/5.15k [00:00<00:00, 8.12MB/s]\n"
          ]
        }
      ]
    },
    {
      "cell_type": "code",
      "source": [
        "train_size = int(0.1 * len(train_dataset))  # 10% of 60,000 = 6,000\n",
        "indices = np.random.choice(len(train_dataset), train_size, replace=False)\n",
        "small_train_dataset = Subset(train_dataset, indices)\n",
        "\n",
        "train_loader = DataLoader(small_train_dataset, batch_size=64, shuffle=True)\n",
        "test_loader = DataLoader(test_dataset, batch_size=64, shuffle=False)"
      ],
      "metadata": {
        "id": "SZacNKduNFQ2"
      },
      "execution_count": 9,
      "outputs": []
    },
    {
      "cell_type": "code",
      "source": [
        "print(len(train_loader))\n",
        "print(len(test_loader))"
      ],
      "metadata": {
        "colab": {
          "base_uri": "https://localhost:8080/"
        },
        "id": "9_xoXPgoNJnr",
        "outputId": "3417b227-9522-4cbf-ffb5-3f127f927e42"
      },
      "execution_count": 10,
      "outputs": [
        {
          "output_type": "stream",
          "name": "stdout",
          "text": [
            "94\n",
            "157\n"
          ]
        }
      ]
    },
    {
      "cell_type": "markdown",
      "source": [
        "CNN Model"
      ],
      "metadata": {
        "id": "S9b4HnL4Nmm5"
      }
    },
    {
      "cell_type": "code",
      "source": [
        "class CNN(nn.Module):\n",
        "  def __init__(self):\n",
        "    super(CNN,self).__init__()\n",
        "\n",
        "    self.conv1=nn.Conv2d(in_channels=1,out_channels=16,kernel_size=3,padding=1)\n",
        "    self.pool=nn.MaxPool2d(kernel_size=2,stride=2)\n",
        "    self.conv2=nn.Conv2d(in_channels=16,out_channels=32,kernel_size=3,padding=1)\n",
        "\n",
        "    self.fc1=nn.Linear(in_features=32*7*7,out_features=128)\n",
        "    self.fc2=nn.Linear(in_features=128,out_features=10)\n",
        "\n",
        "  def forward(self,x):\n",
        "    x=self.pool(F.relu(self.conv1(x)))\n",
        "    x=self.pool(F.relu(self.conv2(x)))\n",
        "    x=x.view(-1,32*7*7)\n",
        "    x=F.relu(self.fc1(x))\n",
        "    x=self.fc2(x)\n",
        "    return x"
      ],
      "metadata": {
        "id": "Myg64fVBNUqc"
      },
      "execution_count": 13,
      "outputs": []
    },
    {
      "cell_type": "markdown",
      "source": [
        "Training"
      ],
      "metadata": {
        "id": "6Dgz_CLKOPTu"
      }
    },
    {
      "cell_type": "code",
      "source": [
        "model=CNN().to(device)\n",
        "\n",
        "criterion=nn.CrossEntropyLoss()\n",
        "optimizer=torch.optim.Adam(model.parameters(), lr=0.01)"
      ],
      "metadata": {
        "id": "C7IjWzfEOOFj"
      },
      "execution_count": 14,
      "outputs": []
    },
    {
      "cell_type": "code",
      "source": [
        "for epoch in range(5):\n",
        "  total_loss=0\n",
        "  for images, labels in train_loader:\n",
        "    images, labels =images.to(device),labels.to(device)\n",
        "    output=model(images)\n",
        "    loss=criterion(output,labels)\n",
        "\n",
        "    optimizer.zero_grad()\n",
        "    loss.backward()\n",
        "    optimizer.step()\n",
        "\n",
        "    total_loss+=loss.item()\n",
        "\n",
        "  print(f\"Epoch {epoch+1}, Loss: {total_loss/len(train_loader)}\")"
      ],
      "metadata": {
        "colab": {
          "base_uri": "https://localhost:8080/"
        },
        "id": "oVIVXDA4Ofh4",
        "outputId": "8be7f8ac-fdd0-42d6-9834-d19164ef5a7c"
      },
      "execution_count": 15,
      "outputs": [
        {
          "output_type": "stream",
          "name": "stdout",
          "text": [
            "Epoch 1, Loss: 0.9197483506608517\n",
            "Epoch 2, Loss: 0.5264249634235463\n",
            "Epoch 3, Loss: 0.4617704064288038\n",
            "Epoch 4, Loss: 0.409966952940251\n",
            "Epoch 5, Loss: 0.36367021786405684\n"
          ]
        }
      ]
    },
    {
      "cell_type": "markdown",
      "source": [
        "Evaluate"
      ],
      "metadata": {
        "id": "nqxR7d1ZO-2z"
      }
    },
    {
      "cell_type": "code",
      "source": [
        "correct=0\n",
        "total=0\n",
        "model.eval()\n",
        "with torch.no_grad():\n",
        "  for images, labels in test_loader:\n",
        "    images, labels =images.to(device),labels.to(device)\n",
        "    output=model(images)\n",
        "    _,predicted=torch.max(output.data,1)\n",
        "    total+=labels.size(0)\n",
        "    correct+=(predicted==labels).sum().item()\n",
        "\n",
        "print(f\"Accuracy: {100*correct/total}%\")"
      ],
      "metadata": {
        "colab": {
          "base_uri": "https://localhost:8080/"
        },
        "id": "ukFHqXIjO8DT",
        "outputId": "9b3e5d4a-9598-4dcb-f15f-a2a7432e1e8c"
      },
      "execution_count": 16,
      "outputs": [
        {
          "output_type": "stream",
          "name": "stdout",
          "text": [
            "Accuracy: 84.16%\n"
          ]
        }
      ]
    }
  ]
}