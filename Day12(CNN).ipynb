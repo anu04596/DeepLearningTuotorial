{
  "nbformat": 4,
  "nbformat_minor": 0,
  "metadata": {
    "colab": {
      "provenance": [],
      "gpuType": "T4",
      "authorship_tag": "ABX9TyMCFf8XQtGIXEmCItgtadrx",
      "include_colab_link": true
    },
    "kernelspec": {
      "name": "python3",
      "display_name": "Python 3"
    },
    "language_info": {
      "name": "python"
    },
    "accelerator": "GPU"
  },
  "cells": [
    {
      "cell_type": "markdown",
      "metadata": {
        "id": "view-in-github",
        "colab_type": "text"
      },
      "source": [
        "<a href=\"https://colab.research.google.com/github/anu04596/DeepLearningTuotorial/blob/main/Day12(CNN).ipynb\" target=\"_parent\"><img src=\"https://colab.research.google.com/assets/colab-badge.svg\" alt=\"Open In Colab\"/></a>"
      ]
    },
    {
      "cell_type": "markdown",
      "source": [
        "Building Fully Connected Neural Netwrok from scratch"
      ],
      "metadata": {
        "id": "j86mUqvbKdja"
      }
    },
    {
      "cell_type": "markdown",
      "source": [
        "Import Libraries"
      ],
      "metadata": {
        "id": "eFN3Z4E7F9xx"
      }
    },
    {
      "cell_type": "code",
      "execution_count": 3,
      "metadata": {
        "id": "HJTho2VCF6zo"
      },
      "outputs": [],
      "source": [
        "import torch\n",
        "import torchvision\n",
        "import torch.nn.functional as F\n",
        "import torchvision.transforms as transforms\n",
        "from torch.utils.data import DataLoader\n",
        "from torch.utils.data import Subset\n",
        "import random"
      ]
    },
    {
      "cell_type": "markdown",
      "source": [
        "Load Dataset"
      ],
      "metadata": {
        "id": "1HVTB9bpGk_k"
      }
    },
    {
      "cell_type": "code",
      "source": [
        "device = torch.device('cuda' if torch.cuda.is_available() else 'cpu')\n",
        "print(\"Using\", device)"
      ],
      "metadata": {
        "colab": {
          "base_uri": "https://localhost:8080/"
        },
        "id": "eGBaasGsJWYK",
        "outputId": "40435300-a897-40f2-a7ca-c64c31427e33"
      },
      "execution_count": 12,
      "outputs": [
        {
          "output_type": "stream",
          "name": "stdout",
          "text": [
            "Using cuda\n"
          ]
        }
      ]
    },
    {
      "cell_type": "code",
      "source": [
        "tranform=transforms.ToTensor()\n",
        "train_dataset=torchvision.datasets.MNIST(root='./data',train=True,transform=tranform,download=True)\n",
        "test_dataset=torchvision.datasets.MNIST(root='./data',train=False,transform=tranform,download=True)\n"
      ],
      "metadata": {
        "colab": {
          "base_uri": "https://localhost:8080/"
        },
        "id": "_x2MK8-RGiWJ",
        "outputId": "9d9f31ec-3641-4928-e9a4-38ace5fb8073"
      },
      "execution_count": 4,
      "outputs": [
        {
          "output_type": "stream",
          "name": "stderr",
          "text": [
            "100%|██████████| 9.91M/9.91M [00:00<00:00, 16.3MB/s]\n",
            "100%|██████████| 28.9k/28.9k [00:00<00:00, 489kB/s]\n",
            "100%|██████████| 1.65M/1.65M [00:00<00:00, 4.51MB/s]\n",
            "100%|██████████| 4.54k/4.54k [00:00<00:00, 7.78MB/s]\n"
          ]
        }
      ]
    },
    {
      "cell_type": "code",
      "source": [
        "subset_size = int(0.1 * len(train_dataset))\n",
        "indices = random.sample(range(len(train_dataset)), subset_size)\n",
        "small_train_dataset = Subset(train_dataset, indices)\n",
        "small_train_loader = DataLoader(small_train_dataset, batch_size=64, shuffle=True)\n",
        "test_loader = DataLoader(test_dataset, batch_size=64, shuffle=False)"
      ],
      "metadata": {
        "id": "Xl-4-OhfHFy4"
      },
      "execution_count": 5,
      "outputs": []
    },
    {
      "cell_type": "code",
      "source": [
        "print(len(small_train_dataset))\n",
        "print(len(test_loader))"
      ],
      "metadata": {
        "colab": {
          "base_uri": "https://localhost:8080/"
        },
        "id": "-oQng63OHSej",
        "outputId": "4b3cb38a-d637-4f54-91b0-b2d4757287bf"
      },
      "execution_count": 9,
      "outputs": [
        {
          "output_type": "stream",
          "name": "stdout",
          "text": [
            "6000\n",
            "157\n"
          ]
        }
      ]
    },
    {
      "cell_type": "markdown",
      "source": [
        "Multi Layer Perceptron"
      ],
      "metadata": {
        "id": "os90XFJXH3N5"
      }
    },
    {
      "cell_type": "code",
      "source": [
        "class MLP(torch.nn.Module):\n",
        "  def __init__(self):\n",
        "    super(MLP,self).__init__()\n",
        "    self.w1=torch.nn.Parameter(torch.randn(784,128)*0.01)\n",
        "    self.b1=torch.nn.Parameter(torch.zeros(128))\n",
        "\n",
        "    self.w2=torch.nn.Parameter(torch.randn(128,64)*0.01)\n",
        "    self.b2=torch.nn.Parameter(torch.zeros(64))\n",
        "\n",
        "    self.w3=torch.nn.Parameter(torch.randn(64,10)*0.01)\n",
        "    self.b3=torch.nn.Parameter(torch.zeros(10))\n",
        "\n",
        "  def forward(self,x):\n",
        "    x=x.view(-1,784)\n",
        "    h1=F.relu(x @ self.w1 + self.b1)\n",
        "    h2=F.relu(h1 @ self.w2 + self.b2)\n",
        "    output=h2 @ self.w3 + self.b3\n",
        "    return output\n",
        "\n",
        "model=MLP().to(device)"
      ],
      "metadata": {
        "id": "cSX_H3hlHXgC"
      },
      "execution_count": 16,
      "outputs": []
    },
    {
      "cell_type": "markdown",
      "source": [
        "Training"
      ],
      "metadata": {
        "id": "AAo1javpI2Hc"
      }
    },
    {
      "cell_type": "code",
      "source": [
        "optimizer=torch.optim.Adam(model.parameters(), lr=1e-3)\n",
        "loss=torch.nn.CrossEntropyLoss()\n",
        "\n",
        "for epoch in range(5):\n",
        "  model.train()\n",
        "  total_loss=0\n",
        "\n",
        "  for images,labels in small_train_loader:\n",
        "    images,labels=images.to(device),labels.to(device)\n",
        "\n",
        "    optimizer.zero_grad()\n",
        "    output=model(images)\n",
        "    loss_value=loss(output,labels)\n",
        "    loss_value.backward()\n",
        "    optimizer.step()\n",
        "\n",
        "    total_loss+=loss_value.item()\n",
        "\n",
        "  print(f\"Epoch {epoch+1}, Loss: {total_loss / len(small_train_loader):.4f}\")"
      ],
      "metadata": {
        "colab": {
          "base_uri": "https://localhost:8080/"
        },
        "id": "9cf_b9ENIta5",
        "outputId": "7cdfe53b-51df-4809-fd74-982a3b9cb5d8"
      },
      "execution_count": 18,
      "outputs": [
        {
          "output_type": "stream",
          "name": "stdout",
          "text": [
            "Epoch 1, Loss: 0.4585\n",
            "Epoch 2, Loss: 0.3762\n",
            "Epoch 3, Loss: 0.3244\n",
            "Epoch 4, Loss: 0.2901\n",
            "Epoch 5, Loss: 0.2569\n"
          ]
        }
      ]
    },
    {
      "cell_type": "markdown",
      "source": [
        "Evaluate"
      ],
      "metadata": {
        "id": "wTZe5jAEJ2pW"
      }
    },
    {
      "cell_type": "code",
      "source": [
        "model.eval()\n",
        "correct=0\n",
        "total=0\n",
        "\n",
        "with torch.no_grad():\n",
        "  for images, labels in test_loader:\n",
        "    images, labels= images.to(device), labels.to(device)\n",
        "    outputs=model(images)\n",
        "    _,predicted=torch.max(outputs,1)\n",
        "    correct+=(predicted==labels).sum().item()\n",
        "    total+=labels.size(0)\n",
        "\n",
        "print(f\"Accuracy: {100* correct/total:.2f}%\")"
      ],
      "metadata": {
        "colab": {
          "base_uri": "https://localhost:8080/"
        },
        "id": "1cQCzltdJm7e",
        "outputId": "7f44cf44-33ad-49db-c82a-9f4eeb3eea22"
      },
      "execution_count": 19,
      "outputs": [
        {
          "output_type": "stream",
          "name": "stdout",
          "text": [
            "Accuracy: 90.95%\n"
          ]
        }
      ]
    }
  ]
}