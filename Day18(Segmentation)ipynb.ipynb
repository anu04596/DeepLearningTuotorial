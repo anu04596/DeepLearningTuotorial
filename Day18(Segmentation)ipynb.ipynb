{
  "nbformat": 4,
  "nbformat_minor": 0,
  "metadata": {
    "colab": {
      "provenance": [],
      "gpuType": "T4",
      "authorship_tag": "ABX9TyOQx/OntCW7GTFYmLJ9toZP",
      "include_colab_link": true
    },
    "kernelspec": {
      "name": "python3",
      "display_name": "Python 3"
    },
    "language_info": {
      "name": "python"
    },
    "accelerator": "GPU"
  },
  "cells": [
    {
      "cell_type": "markdown",
      "metadata": {
        "id": "view-in-github",
        "colab_type": "text"
      },
      "source": [
        "<a href=\"https://colab.research.google.com/github/anu04596/DeepLearningTuotorial/blob/main/Day18(Segmentation)ipynb.ipynb\" target=\"_parent\"><img src=\"https://colab.research.google.com/assets/colab-badge.svg\" alt=\"Open In Colab\"/></a>"
      ]
    },
    {
      "cell_type": "markdown",
      "source": [
        "U-Net for Image Segmentation"
      ],
      "metadata": {
        "id": "gCZqp8S7xUHP"
      }
    },
    {
      "cell_type": "markdown",
      "source": [
        "Import Libraries"
      ],
      "metadata": {
        "id": "oJSiW-9DxaDK"
      }
    },
    {
      "cell_type": "code",
      "execution_count": 1,
      "metadata": {
        "id": "g3sKl-lPxH_5"
      },
      "outputs": [],
      "source": [
        "import torch\n",
        "import torch.nn as nn\n",
        "from torch.utils.data import DataLoader, Dataset\n",
        "import torchvision.transforms as transforms\n",
        "import torchvision.datasets as datasets\n",
        "import matplotlib.pyplot as plt"
      ]
    },
    {
      "cell_type": "markdown",
      "source": [
        "Dummy Dataset"
      ],
      "metadata": {
        "id": "qoDjkzwlxtj1"
      }
    },
    {
      "cell_type": "code",
      "source": [
        "class DummySegmentationDataset(Dataset):\n",
        "    def __init__(self, train=True):\n",
        "        self.data = datasets.MNIST(root='./data', train=train, download=True)\n",
        "        self.transform = transforms.ToTensor()\n",
        "\n",
        "    def __len__(self):\n",
        "        return len(self.data)\n",
        "\n",
        "    def __getitem__(self, idx):\n",
        "        img, label = self.data[idx]\n",
        "        img = self.transform(img)\n",
        "\n",
        "        # Create a binary mask: where pixel > 0.5, it's part of object\n",
        "        mask = (img > 0.5).float()\n",
        "        return img, mask\n"
      ],
      "metadata": {
        "id": "OwdYonu-xsZO"
      },
      "execution_count": 18,
      "outputs": []
    },
    {
      "cell_type": "markdown",
      "source": [
        "U-Net"
      ],
      "metadata": {
        "id": "h_vi1_DQyY4B"
      }
    },
    {
      "cell_type": "code",
      "source": [
        "class UNet(nn.Module):\n",
        "    def __init__(self):\n",
        "        super(UNet, self).__init__()\n",
        "\n",
        "        def conv_block(in_c, out_c):\n",
        "            return nn.Sequential(\n",
        "                nn.Conv2d(in_c, out_c, 3, padding=1),\n",
        "                nn.ReLU(),\n",
        "                nn.Conv2d(out_c, out_c, 3, padding=1),\n",
        "                nn.ReLU()\n",
        "            )\n",
        "\n",
        "        self.enc1 = conv_block(1, 64)\n",
        "        self.pool1 = nn.MaxPool2d(2)\n",
        "\n",
        "        self.enc2 = conv_block(64, 128)\n",
        "        self.pool2 = nn.MaxPool2d(2)\n",
        "\n",
        "        self.middle = conv_block(128, 256)\n",
        "\n",
        "        self.up2 = nn.ConvTranspose2d(256, 128, 2, stride=2)\n",
        "        self.dec2 = conv_block(256, 128)\n",
        "\n",
        "        self.up1 = nn.ConvTranspose2d(128, 64, 2, stride=2)\n",
        "        self.dec1 = conv_block(128, 64)\n",
        "\n",
        "        self.final = nn.Conv2d(64, 1, kernel_size=1)\n",
        "\n",
        "    def forward(self, x):\n",
        "        e1 = self.enc1(x)\n",
        "        e2 = self.enc2(self.pool1(e1))\n",
        "        m = self.middle(self.pool2(e2))\n",
        "\n",
        "        d2 = self.up2(m)\n",
        "        d2 = torch.cat([d2, e2], dim=1)\n",
        "        d2 = self.dec2(d2)\n",
        "\n",
        "        d1 = self.up1(d2)\n",
        "        d1 = torch.cat([d1, e1], dim=1)\n",
        "        d1 = self.dec1(d1)\n",
        "\n",
        "        out = self.final(d1)\n",
        "        return torch.sigmoid(out)\n"
      ],
      "metadata": {
        "id": "nES56ycByXEz"
      },
      "execution_count": 19,
      "outputs": []
    },
    {
      "cell_type": "markdown",
      "source": [
        "Training"
      ],
      "metadata": {
        "id": "q7YDUUhxzFzs"
      }
    },
    {
      "cell_type": "code",
      "source": [
        "device=torch.device('cuda' if torch.cuda.is_available() else 'cpu')\n",
        "\n",
        "model=UNet().to(device)\n",
        "loss_fn=nn.BCELoss()\n",
        "optimizer=torch.optim.Adam(model.parameters(),lr=0.001)\n"
      ],
      "metadata": {
        "id": "fd60oQZGzEZ1"
      },
      "execution_count": 20,
      "outputs": []
    },
    {
      "cell_type": "code",
      "source": [
        "train_data=DummySegmentationDataset(train=True)\n",
        "train_loader=DataLoader(train_data,batch_size=32,shuffle=True)"
      ],
      "metadata": {
        "id": "Xqm8gMz8zOaJ"
      },
      "execution_count": 21,
      "outputs": []
    },
    {
      "cell_type": "code",
      "source": [
        "for epoch in range(2):\n",
        "  for img ,masks  in train_loader:\n",
        "    img,masks=img.to(device),masks.to(device)\n",
        "    pred=model(img)\n",
        "    loss=loss_fn(pred,masks)\n",
        "\n",
        "    optimizer.zero_grad()\n",
        "    loss.backward()\n",
        "    optimizer.step()\n",
        "\n",
        "  print(f'Epoch: {epoch+1}, Loss: {loss.item()}')"
      ],
      "metadata": {
        "colab": {
          "base_uri": "https://localhost:8080/"
        },
        "id": "eCUGD_Y7zROW",
        "outputId": "a4c8bfc5-4b35-42c5-bb87-c3d4783ce084"
      },
      "execution_count": 23,
      "outputs": [
        {
          "output_type": "stream",
          "name": "stdout",
          "text": [
            "Epoch: 1, Loss: 0.0008188505889847875\n",
            "Epoch: 2, Loss: 0.000876101606991142\n"
          ]
        }
      ]
    },
    {
      "cell_type": "markdown",
      "source": [
        "Predictions"
      ],
      "metadata": {
        "id": "89ipL9BM0L4T"
      }
    },
    {
      "cell_type": "code",
      "source": [
        "def show_prediction():\n",
        "    model.eval()\n",
        "    img, mask = train_data[0]\n",
        "    with torch.no_grad():\n",
        "        pred = model(img.unsqueeze(0).to(device))[0][0].cpu()\n",
        "\n",
        "    plt.figure(figsize=(10,3))\n",
        "    plt.subplot(1,3,1)\n",
        "    plt.imshow(img.squeeze(), cmap=\"gray\")\n",
        "    plt.title(\"Image\")\n",
        "\n",
        "    plt.subplot(1,3,2)\n",
        "    plt.imshow(mask.squeeze(), cmap=\"gray\")\n",
        "    plt.title(\"True Mask\")\n",
        "\n",
        "    plt.subplot(1,3,3)\n",
        "    plt.imshow(pred > 0.5, cmap=\"gray\")\n",
        "    plt.title(\"Predicted Mask\")\n",
        "    plt.show()\n",
        "\n",
        "show_prediction()\n"
      ],
      "metadata": {
        "colab": {
          "base_uri": "https://localhost:8080/",
          "height": 310
        },
        "id": "GkfOotEtzqQh",
        "outputId": "f08df1c6-711a-4a7c-b6a5-c6bba70ffca7"
      },
      "execution_count": 24,
      "outputs": [
        {
          "output_type": "display_data",
          "data": {
            "text/plain": [
              "<Figure size 1000x300 with 3 Axes>"
            ],
            "image/png": "[encoded data removed]"
          },
          "metadata": {}
        }
      ]
    },
    {
      "cell_type": "code",
      "source": [],
      "metadata": {
        "id": "UBj0FQck0v3r"
      },
      "execution_count": null,
      "outputs": []
    }
  ]
}