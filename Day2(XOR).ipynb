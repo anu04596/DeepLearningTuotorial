{
  "nbformat": 4,
  "nbformat_minor": 0,
  "metadata": {
    "colab": {
      "provenance": [],
      "authorship_tag": "ABX9TyMOk+7fbcDFwbloJbXpPKwL",
      "include_colab_link": true
    },
    "kernelspec": {
      "name": "python3",
      "display_name": "Python 3"
    },
    "language_info": {
      "name": "python"
    }
  },
  "cells": [
    {
      "cell_type": "markdown",
      "metadata": {
        "id": "view-in-github",
        "colab_type": "text"
      },
      "source": [
        "<a href=\"https://colab.research.google.com/github/anu04596/DeepLearningTuotorial/blob/main/Day2(XOR).ipynb\" target=\"_parent\"><img src=\"https://colab.research.google.com/assets/colab-badge.svg\" alt=\"Open In Colab\"/></a>"
      ]
    },
    {
      "cell_type": "markdown",
      "source": [
        "Importing Libraries"
      ],
      "metadata": {
        "id": "UaYAnWsqYQNb"
      }
    },
    {
      "cell_type": "code",
      "execution_count": 1,
      "metadata": {
        "id": "0i3MmrjeYKE2"
      },
      "outputs": [],
      "source": [
        "import numpy as np"
      ]
    },
    {
      "cell_type": "markdown",
      "source": [
        "Sigmoid function and its derivative"
      ],
      "metadata": {
        "id": "7BHNHdocYT7r"
      }
    },
    {
      "cell_type": "code",
      "source": [
        "def sigmoid(x):\n",
        "  return 1/(1+np.exp(-x))\n",
        "\n",
        "def sigmoid_derivative(x):\n",
        "  return x*(1-x)"
      ],
      "metadata": {
        "id": "_VxYSnyCYPuV"
      },
      "execution_count": 2,
      "outputs": []
    },
    {
      "cell_type": "markdown",
      "source": [
        "XOR dataset"
      ],
      "metadata": {
        "id": "i6qjhdDiYmST"
      }
    },
    {
      "cell_type": "code",
      "source": [
        "X=np.array([[0,0],[0,1],[1,0],[1,1]])\n",
        "y=np.array([[0],[1],[1],[0]])"
      ],
      "metadata": {
        "id": "zgdqx6rHYjk7"
      },
      "execution_count": 3,
      "outputs": []
    },
    {
      "cell_type": "markdown",
      "source": [
        "Initializing Weights and bias"
      ],
      "metadata": {
        "id": "dBZw4iE2Y4N_"
      }
    },
    {
      "cell_type": "code",
      "source": [
        "np.random.seed(0)\n",
        "input_size=2\n",
        "hidden_size=2\n",
        "output_size=1\n",
        "\n",
        "w1=np.random.rand(input_size,hidden_size)\n",
        "b1=np.zeros((1,hidden_size))\n",
        "\n",
        "w2=np.random.rand(hidden_size,output_size)\n",
        "b2=np.zeros((1,output_size))\n"
      ],
      "metadata": {
        "id": "w_6V6dHXY1b7"
      },
      "execution_count": 4,
      "outputs": []
    },
    {
      "cell_type": "markdown",
      "source": [
        "Training"
      ],
      "metadata": {
        "id": "Ue3fWxSvZUwi"
      }
    },
    {
      "cell_type": "code",
      "source": [
        "lr=0.1\n",
        "epochs=10000"
      ],
      "metadata": {
        "id": "ZMg_xVliZS6e"
      },
      "execution_count": 5,
      "outputs": []
    },
    {
      "cell_type": "code",
      "source": [
        "for epoch in range(epochs):\n",
        "  #Forward Pass\n",
        "  z1=np.dot(X,w1)+b1\n",
        "  a1=sigmoid(z1)\n",
        "\n",
        "  z2=np.dot(a1,w2)+b2\n",
        "  a2=sigmoid(z2) # final output\n",
        "\n",
        "  loss=np.mean(np.square(y-a2)**2)\n",
        "\n",
        "  #Backpropogation\n",
        "  d_a2=y-a2\n",
        "  d_z2=d_a2*sigmoid_derivative(a2)\n",
        "\n",
        "  d_W2=np.dot(a1.T,d_z2)\n",
        "  d_b2=np.sum(d_z2,axis=0,keepdims=True)\n",
        "\n",
        "  d_a1=np.dot(d_z2,w2.T)\n",
        "  d_z1=d_a1*sigmoid_derivative(a1)\n",
        "\n",
        "  d_W1=np.dot(X.T,d_z1)\n",
        "  d_b1=np.sum(d_z1,axis=0,keepdims=True)\n",
        "\n",
        "  #updated weights and biases\n",
        "  w1+=lr*d_W1\n",
        "  b1+=lr*d_b1\n",
        "\n",
        "  w2+=lr*d_W2\n",
        "  b2+=lr*d_b2\n",
        "\n",
        "  if epoch%1000==0:\n",
        "    print(f\"Epoch:{epoch}, Loss:{loss}\")\n"
      ],
      "metadata": {
        "colab": {
          "base_uri": "https://localhost:8080/"
        },
        "id": "BfkpRJxYbtnr",
        "outputId": "56d57f6d-3cb7-4165-80b9-abc0dd65ec93"
      },
      "execution_count": 6,
      "outputs": [
        {
          "output_type": "stream",
          "name": "stdout",
          "text": [
            "Epoch:0, Loss:0.10415061893844672\n",
            "Epoch:1000, Loss:0.06159471355985533\n",
            "Epoch:2000, Loss:0.05539174324134326\n",
            "Epoch:3000, Loss:0.04299108702012229\n",
            "Epoch:4000, Loss:0.006616326272090127\n",
            "Epoch:5000, Loss:0.00044697999368887946\n",
            "Epoch:6000, Loss:0.0001030530857947341\n",
            "Epoch:7000, Loss:4.088089234636335e-05\n",
            "Epoch:8000, Loss:2.1038724739188944e-05\n",
            "Epoch:9000, Loss:1.2567469604254204e-05\n"
          ]
        }
      ]
    },
    {
      "cell_type": "markdown",
      "source": [
        "Testing"
      ],
      "metadata": {
        "id": "jtQ3NhlDc7Ir"
      }
    },
    {
      "cell_type": "code",
      "source": [
        "print('Predictions:\\n')\n",
        "for i in range(len(X)):\n",
        "  hidden=sigmoid(np.dot(X[i],w1)+b1)\n",
        "  output=sigmoid(np.dot(hidden,w2)+b2)\n",
        "  print(f\"Input:{X[i]}, Output:{output}, Class: {int(output[0]>0.5)}\")"
      ],
      "metadata": {
        "colab": {
          "base_uri": "https://localhost:8080/"
        },
        "id": "ZRXQQEm5c26-",
        "outputId": "2d4783c4-0484-441c-ccb4-d0aa94828933"
      },
      "execution_count": 7,
      "outputs": [
        {
          "output_type": "stream",
          "name": "stdout",
          "text": [
            "Predictions:\n",
            "\n",
            "Input:[0 0], Output:[[0.05591456]], Class: 0\n",
            "Input:[0 1], Output:[[0.94863836]], Class: 1\n",
            "Input:[1 0], Output:[[0.94863005]], Class: 1\n",
            "Input:[1 1], Output:[[0.05529351]], Class: 0\n"
          ]
        },
        {
          "output_type": "stream",
          "name": "stderr",
          "text": [
            "/tmp/ipython-input-7-2364437353.py:5: DeprecationWarning: Conversion of an array with ndim > 0 to a scalar is deprecated, and will error in future. Ensure you extract a single element from your array before performing this operation. (Deprecated NumPy 1.25.)\n",
            "  print(f\"Input:{X[i]}, Output:{output}, Class: {int(output[0]>0.5)}\")\n"
          ]
        }
      ]
    }
  ]
}